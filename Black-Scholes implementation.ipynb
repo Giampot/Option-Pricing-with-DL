{
 "cells": [
  {
   "cell_type": "markdown",
   "metadata": {},
   "source": [
    "# Black-Scholes implementation\n",
    "\n",
    "### Step 1) *Data prep as described [Here](http://localhost:8888/files/Desktop/Tesi%20Borri/Data%20preparation.ipynb?_xsrf=2%7Ce5b511d0%7C653ab010e3f3fffbd39d614750c07f88%7C1598287506)*"
   ]
  },
  {
   "cell_type": "code",
   "execution_count": 4,
   "metadata": {},
   "outputs": [
    {
     "name": "stdout",
     "output_type": "stream",
     "text": [
      "742939 train observations\n",
      "185735 test observations\n"
     ]
    }
   ],
   "source": [
    "from __future__ import absolute_import, division, print_function, unicode_literals\n",
    "import pandas as pd\n",
    "import numpy as np\n",
    "import sympy as sy\n",
    "import scipy.stats as si\n",
    "from scipy.stats import norm\n",
    "from sklearn.metrics import mean_squared_error\n",
    "from sklearn.metrics import accuracy_score\n",
    "import matplotlib.pyplot as plt\n",
    "import math\n",
    "import seaborn as sns\n",
    "import time\n",
    "import pathlib\n",
    "import matplotlib.pyplot as plt\n",
    "import numpy as np\n",
    "import pandas as pd\n",
    "import seaborn as sns\n",
    "\n",
    "ds=pd.read_csv('c:/L3_options_20190815.csv')\n",
    "\n",
    "#Deleting the unused columns\n",
    "ds.drop('Volume', axis=1, inplace=True)\n",
    "ds.drop('OpenInterest', axis=1, inplace=True)\n",
    "ds.drop('T1OpenInterest', axis=1, inplace=True)\n",
    "ds.drop('IVBid', axis=1, inplace=True)\n",
    "ds.drop('IVAsk', axis=1, inplace=True)\n",
    "ds.drop('AKA', axis=1, inplace=True)\n",
    "ds.drop('UnderlyingSymbol', axis=1, inplace=True)\n",
    "ds.drop('Flags', axis=1, inplace=True)\n",
    "\n",
    "#Creating the target variable 'Price' as the average of Bid and Ask price\n",
    "\n",
    "ds['Average Price']=(ds['Bid']+ds['Ask'])/2\n",
    "\n",
    "ds.drop('Bid', axis=1, inplace=True)\n",
    "ds.drop('Ask', axis=1, inplace=True)\n",
    "\n",
    "#Creating the variable 'Time to maturity' as a fraction of 252 yearly working days\n",
    "\n",
    "date_format = \"%m/%d/%Y\"\n",
    "ds['StartDay'] = pd.to_datetime(ds[' DataDate']).sub(pd.Timestamp('2019-01-01')).dt.days\n",
    "ds['ExpirationDay'] = pd.to_datetime(ds['Expiration']).sub(pd.Timestamp('2019-01-01')).dt.days\n",
    "ds['TimeToMaturity'] = (ds['ExpirationDay'] - ds['StartDay'])/252\n",
    "\n",
    "#Risk Free rate, the US 3 months treasury bill rate\n",
    "\n",
    "rf = 0.0187 \n",
    "\n",
    "#Deleting all the remaining unused columns\n",
    "\n",
    "ds.drop('Expiration', axis=1, inplace=True)\n",
    "ds.drop(' DataDate', axis=1, inplace=True)\n",
    "ds.drop('Last', axis=1, inplace=True)\n",
    "ds.drop('Delta', axis=1, inplace=True)\n",
    "ds.drop('Gamma', axis=1, inplace=True)\n",
    "ds.drop('Theta', axis=1, inplace=True)\n",
    "ds.drop('Vega', axis=1, inplace=True)\n",
    "ds.drop('StartDay', axis=1, inplace=True)\n",
    "ds.drop('ExpirationDay', axis=1, inplace=True)\n",
    "ds.drop('OptionSymbol', axis=1, inplace=True)\n",
    "\n",
    "#Dividing observations in test set and training set\n",
    "\n",
    "train_ds = ds.sample(frac=0.8,random_state=0)\n",
    "test_ds = ds.drop(train_ds.index)\n",
    "\n",
    "print(str(len(train_ds))+\" train observations\")\n",
    "print(str(len(test_ds))+\" test observations\")"
   ]
  },
  {
   "cell_type": "markdown",
   "metadata": {},
   "source": [
    "### Step 2) *Defining Black-Scholes formula fro european Calls and Puts*"
   ]
  },
  {
   "cell_type": "code",
   "execution_count": 5,
   "metadata": {},
   "outputs": [],
   "source": [
    "#Defining Black and Scholes formula\n",
    "\n",
    "def BS_Option_Price(S, K, T, r, sigma, option = 'call'):\n",
    "    \n",
    "    #S: Underlying price\n",
    "    #K: Strike price\n",
    "    #T: Time to maturity\n",
    "    #r: Risk free rate\n",
    "    #sigma: Implied Volatility\n",
    "    \n",
    "    #d_1 and d_2\n",
    "    \n",
    "    d1 = (np.log(S / K) + (r + 0.5 * sigma ** 2) * T) / (sigma * np.sqrt(T)) \n",
    "    d2 = (np.log(S / K) + (r - 0.5 * sigma ** 2) * T) / (sigma * np.sqrt(T))\n",
    "    \n",
    "    if option == 'call':\n",
    "        result = (S * norm.cdf(d1) - K * np.exp(-r * T) * norm.cdf(d2))\n",
    "    if option == 'put':\n",
    "        result = (K * np.exp(-r * T) * norm.cdf(-d2) - S * norm.cdf(-d1))\n",
    "        \n",
    "    return result"
   ]
  },
  {
   "cell_type": "markdown",
   "metadata": {},
   "source": [
    "### Step 3) *Applying Black-Scholes formula to all Test set*"
   ]
  },
  {
   "cell_type": "code",
   "execution_count": 10,
   "metadata": {},
   "outputs": [
    {
     "name": "stdout",
     "output_type": "stream",
     "text": [
      "MAE: 1.5570189008837112\n",
      "Runtime: 0.1406247615814209\n"
     ]
    },
    {
     "data": {
      "text/plain": [
       "<matplotlib.axes._subplots.AxesSubplot at 0x2586ac1e348>"
      ]
     },
     "execution_count": 10,
     "metadata": {},
     "output_type": "execute_result"
    },
    {
     "data": {
      "image/png": "[encoded data removed]",
      "text/plain": [
       "<Figure size 432x288 with 1 Axes>"
      ]
     },
     "metadata": {
      "needs_background": "light"
     },
     "output_type": "display_data"
    }
   ],
   "source": [
    "#Applying BS formula to test set and counting time\n",
    "\n",
    "start = time.time()\n",
    "\n",
    "test_ds['BS_Price']= np.where(test_ds['Type']=='call', \n",
    "                         BS_Option_Price(test_ds['UnderlyingPrice'], \n",
    "                                         test_ds['Strike'], \n",
    "                                         test_ds['TimeToMaturity'], \n",
    "                                         rf, \n",
    "                                         test_ds['IVMean'], option = 'call'), \n",
    "                         BS_Option_Price(test_ds['UnderlyingPrice'], \n",
    "                                         test_ds['Strike'], \n",
    "                                         test_ds['TimeToMaturity'], \n",
    "                                         rf, test_ds['IVMean'], option = 'put'))\n",
    "\n",
    "#Calculating the absolute error of the model\n",
    "\n",
    "test_ds['Absolute_error']=np.absolute(test_ds['Average Price'] - test_ds['BS_Price'])\n",
    "\n",
    "end = time.time()\n",
    "\n",
    "MAE = np.mean(test_ds['Absolute_error'])\n",
    "\n",
    "print(\"MAE: \"+ str(MAE))\n",
    "\n",
    "print(\"Runtime: \" + str(end - start))\n",
    "\n",
    "#Distribution of errors plot\n",
    "\n",
    "test_ds['Errors distribution applying Black and Scholes model']=test_ds['Average Price'] - test_ds['BS_Price']\n",
    "\n",
    "sns.distplot(test_ds['Errors distribution applying Black and Scholes model'], hist=True, kde=True, \n",
    "             bins=int(1000), color = 'grey', \n",
    "             hist_kws={'edgecolor':'black'},\n",
    "             kde_kws={'linewidth': 3})"
   ]
  },
  {
   "cell_type": "code",
   "execution_count": 11,
   "metadata": {
    "scrolled": true
   },
   "outputs": [
    {
     "data": {
      "image/png": "[encoded data removed]",
      "text/plain": [
       "<Figure size 432x288 with 1 Axes>"
      ]
     },
     "metadata": {
      "needs_background": "light"
     },
     "output_type": "display_data"
    }
   ],
   "source": [
    "#Scatterplot actual vs. predicted\n",
    "\n",
    "a = plt.axes(aspect='equal')\n",
    "plt.scatter(test_ds['Average Price'], test_ds['BS_Price'], linewidths=0.001)\n",
    "plt.xlabel('Average Price')\n",
    "plt.ylabel('Black and Scholes model prediction')\n",
    "lims = [0, 6000]\n",
    "plt.xlim(lims)\n",
    "plt.ylim(lims)\n",
    "_ = plt.plot(lims, lims)"
   ]
  },
  {
   "cell_type": "code",
   "execution_count": 12,
   "metadata": {},
   "outputs": [
    {
     "data": {
      "text/plain": [
       "<matplotlib.axes._subplots.AxesSubplot at 0x25800823248>"
      ]
     },
     "execution_count": 12,
     "metadata": {},
     "output_type": "execute_result"
    },
    {
     "data": {
      "image/png": "[encoded data removed]",
      "text/plain": [
       "<Figure size 432x288 with 1 Axes>"
      ]
     },
     "metadata": {
      "needs_background": "light"
     },
     "output_type": "display_data"
    }
   ],
   "source": [
    "sns.distplot(ds['UnderlyingPrice'], hist=True, kde=True, \n",
    "             bins=int(1000), color = 'grey', \n",
    "             hist_kws={'edgecolor':'black'},\n",
    "             kde_kws={'linewidth': 3})"
   ]
  },
  {
   "cell_type": "code",
   "execution_count": 13,
   "metadata": {},
   "outputs": [
    {
     "data": {
      "text/html": [
       "<div>\n",
       "<style scoped>\n",
       "    .dataframe tbody tr th:only-of-type {\n",
       "        vertical-align: middle;\n",
       "    }\n",
       "\n",
       "    .dataframe tbody tr th {\n",
       "        vertical-align: top;\n",
       "    }\n",
       "\n",
       "    .dataframe thead th {\n",
       "        text-align: right;\n",
       "    }\n",
       "</style>\n",
       "<table border=\"1\" class=\"dataframe\">\n",
       "  <thead>\n",
       "    <tr style=\"text-align: right;\">\n",
       "      <th></th>\n",
       "      <th>UnderlyingPrice</th>\n",
       "      <th>Type</th>\n",
       "      <th>Strike</th>\n",
       "      <th>IVMean</th>\n",
       "      <th>Average Price</th>\n",
       "      <th>TimeToMaturity</th>\n",
       "    </tr>\n",
       "  </thead>\n",
       "  <tbody>\n",
       "    <tr>\n",
       "      <td>0</td>\n",
       "      <td>69.59</td>\n",
       "      <td>call</td>\n",
       "      <td>42.5</td>\n",
       "      <td>1.0356</td>\n",
       "      <td>27.275</td>\n",
       "      <td>0.003968</td>\n",
       "    </tr>\n",
       "    <tr>\n",
       "      <td>1</td>\n",
       "      <td>69.59</td>\n",
       "      <td>put</td>\n",
       "      <td>42.5</td>\n",
       "      <td>1.2329</td>\n",
       "      <td>0.020</td>\n",
       "      <td>0.003968</td>\n",
       "    </tr>\n",
       "    <tr>\n",
       "      <td>2</td>\n",
       "      <td>69.59</td>\n",
       "      <td>call</td>\n",
       "      <td>45.0</td>\n",
       "      <td>1.0356</td>\n",
       "      <td>24.675</td>\n",
       "      <td>0.003968</td>\n",
       "    </tr>\n",
       "    <tr>\n",
       "      <td>3</td>\n",
       "      <td>69.59</td>\n",
       "      <td>put</td>\n",
       "      <td>45.0</td>\n",
       "      <td>1.2329</td>\n",
       "      <td>0.020</td>\n",
       "      <td>0.003968</td>\n",
       "    </tr>\n",
       "    <tr>\n",
       "      <td>4</td>\n",
       "      <td>69.59</td>\n",
       "      <td>call</td>\n",
       "      <td>47.5</td>\n",
       "      <td>1.0356</td>\n",
       "      <td>22.125</td>\n",
       "      <td>0.003968</td>\n",
       "    </tr>\n",
       "  </tbody>\n",
       "</table>\n",
       "</div>"
      ],
      "text/plain": [
       "   UnderlyingPrice  Type  Strike  IVMean  Average Price  TimeToMaturity\n",
       "0            69.59  call    42.5  1.0356         27.275        0.003968\n",
       "1            69.59   put    42.5  1.2329          0.020        0.003968\n",
       "2            69.59  call    45.0  1.0356         24.675        0.003968\n",
       "3            69.59   put    45.0  1.2329          0.020        0.003968\n",
       "4            69.59  call    47.5  1.0356         22.125        0.003968"
      ]
     },
     "execution_count": 13,
     "metadata": {},
     "output_type": "execute_result"
    }
   ],
   "source": [
    "ds.head()"
   ]
  },
  {
   "cell_type": "code",
   "execution_count": null,
   "metadata": {},
   "outputs": [],
   "source": []
  }
 ],
 "metadata": {
  "kernelspec": {
   "display_name": "Python 3",
   "language": "python",
   "name": "python3"
  },
  "language_info": {
   "codemirror_mode": {
    "name": "ipython",
    "version": 3
   },
   "file_extension": ".py",
   "mimetype": "text/x-python",
   "name": "python",
   "nbconvert_exporter": "python",
   "pygments_lexer": "ipython3",
   "version": "3.7.4"
  }
 },
 "nbformat": 4,
 "nbformat_minor": 4
}
